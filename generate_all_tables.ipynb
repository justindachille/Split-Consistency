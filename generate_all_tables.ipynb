{
 "cells": [
  {
   "cell_type": "markdown",
   "metadata": {},
   "source": [
    "# DO NOT \"RUN ALL\""
   ]
  },
  {
   "cell_type": "markdown",
   "metadata": {},
   "source": [
    "### Create all LaTeX tables"
   ]
  },
  {
   "cell_type": "code",
   "execution_count": 17,
   "metadata": {},
   "outputs": [],
   "source": [
    "import subprocess\n",
    "\n",
    "commands = [\n",
    "\"python read_global_model_logs.py --filename logs/resnet_18_100_users.csv --dataset_filter cifar10 --partition iid\",\n",
    "# Commented this one out since it is 100 rounds, the next command is 200 rounds\n",
    "# \"python read_global_model_logs.py --filename logs/resnet_18_100_users.csv --dataset_filter cifar10 --partition noniid-labeldir\",\n",
    "\n",
    "\"python read_global_model_logs.py --filename logs/resnet_18_100_users_200_rounds.csv --dataset_filter cifar10 --partition noniid-labeldir\",\n",
    "\n",
    "\"python read_global_model_logs.py --filename logs/resnet_50_100_users_300_epochs.csv --dataset_filter cifar100 --partition iid\",\n",
    "\"python read_global_model_logs.py --filename logs/resnet_50_100_users_300_epochs.csv --dataset_filter cifar100 --partition noniid-labeldir\",\n",
    "\n",
    "\"python read_global_model_logs.py --filename logs/resnet_50_10_users_300_epochs.csv --dataset_filter cifar100 --partition iid\",\n",
    "\"python read_global_model_logs.py --filename logs/resnet_50_10_users_300_epochs.csv --dataset_filter cifar100 --partition noniid-labeldir\",\n",
    "\n",
    "\n",
    "# \"python read_global_model_logs.py --filename logs/mobilenetv3_tinyimagenet.csv --dataset_filter tinyimagenet --partition iid\",\n",
    "\n",
    "\"python read_global_model_logs.py --filename logs/resnet_50_10_users_tinyimagenet.csv --dataset_filter tinyimagenet --partition iid\",\n",
    "\"python read_global_model_logs.py --filename logs/resnet_50_10_users_tinyimagenet.csv --dataset_filter tinyimagenet --partition noniid-labeldir\",\n",
    "\n",
    "\"python read_global_model_logs.py --filename logs/resnet18_ham.csv --dataset_filter ham10000 --partition iid\",\n",
    "]\n",
    "\n",
    "with open(\"output_tables.txt\", \"w\") as file:\n",
    "    for command in commands:\n",
    "        output = subprocess.check_output(command, shell=True, universal_newlines=True)\n",
    "        # print(output)\n",
    "        file.write(output)\n",
    "        file.write(\"\\n\")"
   ]
  },
  {
   "cell_type": "code",
   "execution_count": 8,
   "metadata": {},
   "outputs": [],
   "source": [
    "commands = [\n",
    "    \"python read_global_model_logs_hpo.py --filename logs/resnet18_ham.csv --partition iid --alg fedavg --dataset_filter ham10000\",\n",
    "\n",
    "    \"python read_global_model_logs_hpo.py --filename logs/resnet_18_100_users.csv --partition iid --alg fedavg --dataset_filter cifar10\",\n",
    "    \"python read_global_model_logs_hpo.py --filename logs/resnet_18_100_users.csv --partition noniid-labeldir --alg fedavg --dataset_filter cifar10\",\n",
    "\n",
    "    \"python read_global_model_logs_hpo.py --filename logs/resnet_50_100_users_300_epochs.csv --partition iid --alg fedavg --dataset_filter cifar100\",\n",
    "    \"python read_global_model_logs_hpo.py --filename logs/resnet_50_100_users_300_epochs.csv --partition noniid-labeldir --alg fedavg --dataset_filter cifar100\",\n",
    "\n",
    "    \"python read_global_model_logs_hpo.py --filename logs/resnet_50_10_users_tinyimagenet.csv --partition iid --alg fedavg --dataset_filter tinyimagenet\",\n",
    "    \"python read_global_model_logs_hpo.py --filename logs/resnet_50_10_users_tinyimagenet.csv --partition noniid-labeldir --alg fedavg --dataset_filter tinyimagenet\",\n",
    "\n",
    "    \"python read_global_model_logs_hpo.py --filename logs/centralized.csv --partition iid --alg centralized --dataset_filter tinyimagenet\",\n",
    "]\n",
    "\n",
    "with open(\"test.txt\", \"w\") as file:\n",
    "    for command in commands:\n",
    "        output = subprocess.check_output(command, shell=True, universal_newlines=True)\n",
    "        # print(output)\n",
    "        file.write(output)\n",
    "        file.write(\"\\n\")"
   ]
  },
  {
   "cell_type": "markdown",
   "metadata": {},
   "source": [
    "### Manual deletion of specific runs"
   ]
  },
  {
   "cell_type": "markdown",
   "metadata": {},
   "source": [
    "#### Step 1: Filter"
   ]
  },
  {
   "cell_type": "code",
   "execution_count": 18,
   "metadata": {},
   "outputs": [
    {
     "name": "stdout",
     "output_type": "stream",
     "text": [
      "Best Global Model Test: 0.5434\n",
      "Matched Hyperparameters: {'alg': 'fedavg', 'partition': 'noniid-labeldir', 'dataset': 'tinyimagenet', 'optimizer': 'sgd'}\n",
      "---\n",
      "Best Global Model Test: 0.5341\n",
      "Matched Hyperparameters: {'alg': 'fedavg', 'partition': 'noniid-labeldir', 'dataset': 'tinyimagenet', 'optimizer': 'sgd'}\n",
      "---\n",
      "Best Global Model Test: 0.5311\n",
      "Matched Hyperparameters: {'alg': 'fedavg', 'partition': 'noniid-labeldir', 'dataset': 'tinyimagenet', 'optimizer': 'sgd'}\n",
      "---\n"
     ]
    }
   ],
   "source": [
    "# Cell 1: Filter runs based on hyperparameters\n",
    "import pandas as pd\n",
    "import ast\n",
    "\n",
    "def filter_runs(filename, hyperparameter_filters):\n",
    "    df = pd.read_csv(filename)\n",
    "    \n",
    "    def match_hyperparameters(row, filters):\n",
    "        hyperparameters = ast.literal_eval(row['Hyperparameters'])\n",
    "        for key, value in filters.items():\n",
    "            if key not in hyperparameters or hyperparameters[key] != value:\n",
    "                return False\n",
    "        return True\n",
    "    \n",
    "    filtered_df = df[df.apply(lambda row: match_hyperparameters(row, hyperparameter_filters), axis=1)]\n",
    "    \n",
    "    for _, row in filtered_df.iterrows():\n",
    "        hyperparameters = ast.literal_eval(row['Hyperparameters'])\n",
    "        matched_hyperparameters = {key: hyperparameters[key] for key in hyperparameter_filters}\n",
    "        print(f\"Best Global Model Test: {row['Best Global Model Test']}\")\n",
    "        print(f\"Matched Hyperparameters: {matched_hyperparameters}\")\n",
    "        print(\"---\")\n",
    "    \n",
    "    return filtered_df\n",
    "\n",
    "filename = 'logs/resnet_50_10_users_tinyimagenet.csv'\n",
    "hyperparameter_filters = {\n",
    "    \"alg\": \"fedavg\",\n",
    "    \"partition\": \"noniid-labeldir\",\n",
    "    \"dataset\": \"tinyimagenet\",\n",
    "    # \"n_parties\": 100,\n",
    "    # \"split_layer\": \"4\",\n",
    "    \"optimizer\": \"sgd\",\n",
    "    # \"lr\": 0.01,\n",
    "    # \"batch_size\": 128,\n",
    "}\n",
    "\n",
    "filtered_runs = filter_runs(filename, hyperparameter_filters)"
   ]
  },
  {
   "cell_type": "markdown",
   "metadata": {},
   "source": [
    "#### Step 2: Delete filtered rows"
   ]
  },
  {
   "cell_type": "code",
   "execution_count": 19,
   "metadata": {},
   "outputs": [
    {
     "name": "stdout",
     "output_type": "stream",
     "text": [
      "Deleted 3 matching runs from the CSV file.\n"
     ]
    }
   ],
   "source": [
    "# Cell 2: Delete matching runs from the CSV file\n",
    "import pandas as pd\n",
    "\n",
    "if True:\n",
    "    def delete_matching_runs(filename, filtered_runs):\n",
    "        df = pd.read_csv(filename)\n",
    "        updated_df = df[~df.index.isin(filtered_runs.index)]\n",
    "        updated_df.to_csv(filename, index=False)\n",
    "        print(f\"Deleted {len(filtered_runs)} matching runs from the CSV file.\")\n",
    "\n",
    "    # Example usage\n",
    "    delete_matching_runs(filename, filtered_runs)"
   ]
  }
 ],
 "metadata": {
  "kernelspec": {
   "display_name": "Python 3",
   "language": "python",
   "name": "python3"
  },
  "language_info": {
   "codemirror_mode": {
    "name": "ipython",
    "version": 3
   },
   "file_extension": ".py",
   "mimetype": "text/x-python",
   "name": "python",
   "nbconvert_exporter": "python",
   "pygments_lexer": "ipython3",
   "version": "3.11.1"
  }
 },
 "nbformat": 4,
 "nbformat_minor": 2
}
